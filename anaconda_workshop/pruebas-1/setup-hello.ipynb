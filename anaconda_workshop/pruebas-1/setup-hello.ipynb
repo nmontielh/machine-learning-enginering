{
 "cells": [
  {
   "cell_type": "code",
   "execution_count": 7,
   "metadata": {},
   "outputs": [
    {
     "name": "stdout",
     "output_type": "stream",
     "text": [
      "Noe Max tiene 40\n"
     ]
    }
   ],
   "source": [
    "import pandas as pd\n",
    "import numpy as np\n",
    "from sklearn import datasets\n",
    "\n",
    "dataFile = pd.read_csv('data.csv');\n",
    "\n",
    "name = \"Noe Max\";\n",
    "age = 40;\n",
    "\n",
    "# Probamos los codigos de data access\n",
    "iris_dataset = datasets.load_iris();\n",
    "X = iris_dataset.data[:, : 2];\n",
    "x_count = len(X.flat);\n",
    "x_min = X[:,0].min()\n",
    "x_max = X[:,0].max()\n",
    "x_mean = X[:,0].mean()\n",
    "\n",
    "\n",
    "print(name + \" tiene \" + str(age))"
   ]
  },
  {
   "cell_type": "code",
   "execution_count": 8,
   "metadata": {},
   "outputs": [
    {
     "data": {
      "text/plain": [
       "(300, 4.3, 7.9, 5.843333333333334)"
      ]
     },
     "execution_count": 8,
     "metadata": {},
     "output_type": "execute_result"
    }
   ],
   "source": [
    "x_count, x_min, x_max, x_mean"
   ]
  },
  {
   "cell_type": "code",
   "execution_count": 3,
   "metadata": {},
   "outputs": [
    {
     "name": "stdout",
     "output_type": "stream",
     "text": [
      "          x1        x2  y\n",
      "0   0.780510 -0.063669  0\n",
      "1   0.287740  0.291390  0\n",
      "2   0.407140  0.178780  0\n",
      "3   0.292300  0.421700  0\n",
      "4   0.509220  0.352560  0\n",
      "5   0.277850  0.108020  0\n",
      "6   0.275270  0.332230  0\n",
      "7   0.439990  0.312450  0\n",
      "8   0.335570  0.429840  0\n",
      "9   0.234480  0.249860  0\n",
      "10  0.008449  0.136580  0\n",
      "11  0.124190  0.335950  0\n",
      "12  0.256440  0.426240  0\n",
      "13  0.459100  0.404260  0\n",
      "14  0.445470  0.451170  0\n",
      "15  0.422180  0.201180  0\n",
      "16  0.495630  0.214450  0\n",
      "17  0.308480  0.243060  0\n",
      "18  0.397070  0.444380  0\n",
      "19  0.329450  0.392170  0\n",
      "20  0.407390  0.402710  0\n",
      "21  0.310600  0.507020  0\n",
      "22  0.496380  0.453840  0\n",
      "23  0.100730  0.320530  0\n",
      "24  0.699070  0.373070  0\n",
      "25  0.297670  0.696480  0\n",
      "26  0.150990  0.573410  0\n",
      "27  0.164270  0.277590  0\n",
      "28  0.332590  0.055964  0\n",
      "29  0.537410  0.286370  0\n",
      "..       ...       ... ..\n",
      "70  0.708760  0.967640  1\n",
      "71  0.691760  0.608650  1\n",
      "72  0.664080  0.920750  1\n",
      "73  0.659730  0.666660  1\n",
      "74  0.645740  0.568450  1\n",
      "75  0.896390  0.708500  1\n",
      "76  0.854760  0.631670  1\n",
      "77  0.620910  0.804240  1\n",
      "78  0.790570  0.561080  1\n",
      "79  0.589350  0.715820  1\n",
      "80  0.568460  0.740600  1\n",
      "81  0.659120  0.715480  1\n",
      "82  0.709380  0.740410  1\n",
      "83  0.591540  0.629270  1\n",
      "84  0.458290  0.464100  1\n",
      "85  0.799820  0.748470  1\n",
      "86  0.609740  0.547570  1\n",
      "87  0.681270  0.869850  1\n",
      "88  0.766940  0.647360  1\n",
      "89  0.690480  0.830580  1\n",
      "90  0.681220  0.965410  1\n",
      "91  0.732290  0.642450  1\n",
      "92  0.761450  0.601380  1\n",
      "93  0.589850  0.869550  1\n",
      "94  0.731450  0.745160  1\n",
      "95  0.770290  0.701400  1\n",
      "96  0.731560  0.717820  1\n",
      "97  0.445560  0.579910  1\n",
      "98  0.852750  0.859870  1\n",
      "99  0.519120  0.623590  1\n",
      "\n",
      "[100 rows x 3 columns]\n"
     ]
    }
   ],
   "source": [
    "\n",
    "\n",
    "print(dataFile);"
   ]
  },
  {
   "cell_type": "code",
   "execution_count": null,
   "metadata": {},
   "outputs": [],
   "source": []
  }
 ],
 "metadata": {
  "kernelspec": {
   "display_name": "Python 3",
   "language": "python",
   "name": "python3"
  },
  "language_info": {
   "codemirror_mode": {
    "name": "ipython",
    "version": 3
   },
   "file_extension": ".py",
   "mimetype": "text/x-python",
   "name": "python",
   "nbconvert_exporter": "python",
   "pygments_lexer": "ipython3",
   "version": "3.7.1"
  }
 },
 "nbformat": 4,
 "nbformat_minor": 2
}
